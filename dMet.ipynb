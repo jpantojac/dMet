{
  "nbformat": 4,
  "nbformat_minor": 0,
  "metadata": {
    "colab": {
      "provenance": [],
      "collapsed_sections": [],
      "authorship_tag": "ABX9TyM/7m/XY3JBUlfBw1mPbwz4",
      "include_colab_link": true
    },
    "kernelspec": {
      "name": "python3",
      "display_name": "Python 3"
    },
    "language_info": {
      "name": "python"
    }
  },
  "cells": [
    {
      "cell_type": "markdown",
      "metadata": {
        "id": "view-in-github",
        "colab_type": "text"
      },
      "source": [
        "<a href=\"https://colab.research.google.com/github/jpantojac/dMet/blob/main/dMet.ipynb\" target=\"_parent\"><img src=\"https://colab.research.google.com/assets/colab-badge.svg\" alt=\"Open In Colab\"/></a>"
      ]
    },
    {
      "cell_type": "markdown",
      "source": [
        "**Bienvenido al Diplomado de Meteorologia**\n",
        "\n",
        "\n",
        "---\n",
        "\n",
        "\n",
        "\n",
        "\n",
        "En este espacio se realizaran las entregas de los ejercicios propuestos\n"
      ],
      "metadata": {
        "id": "4gUEoXvkDUDT"
      }
    },
    {
      "cell_type": "code",
      "source": [
        "import os\n",
        "\n",
        "print(\"Bienvenido\")\n",
        "valor = input(\"Digite un numero\")\n",
        "print(\"valor:\" + valor)"
      ],
      "metadata": {
        "colab": {
          "base_uri": "https://localhost:8080/"
        },
        "id": "l6WVxdzkEK1F",
        "outputId": "0a521c39-cc77-4f7f-ff69-99b4b27e1624"
      },
      "execution_count": 14,
      "outputs": [
        {
          "output_type": "stream",
          "name": "stdout",
          "text": [
            "Digite un numero3\n",
            "valor:3\n"
          ]
        }
      ]
    },
    {
      "cell_type": "markdown",
      "source": [
        "Calcular el area y perimetro de un Cuadrado: \n",
        "Formulas: A=LxL y P=L+L+L+L"
      ],
      "metadata": {
        "id": "ToWUCDmcFt4o"
      }
    },
    {
      "cell_type": "code",
      "source": [
        "#!usr/bin/bash python\n",
        "\n",
        "lado = 5.5\n",
        "\n",
        "area = lado * lado\n",
        "\n",
        "print(\"el area es:\" + str(area))"
      ],
      "metadata": {
        "colab": {
          "base_uri": "https://localhost:8080/"
        },
        "id": "GMPjIYvWOQn6",
        "outputId": "23230871-7da2-4b44-9ccd-0b3519929f26"
      },
      "execution_count": 19,
      "outputs": [
        {
          "output_type": "stream",
          "name": "stdout",
          "text": [
            "el area es:30.25\n"
          ]
        }
      ]
    },
    {
      "cell_type": "code",
      "source": [
        "#!usr/bin/bash python\n",
        "import os\n",
        "\n",
        "def prompt_for_integer(prompt):\n",
        "    while True:\n",
        "        try:\n",
        "            return(int(input(prompt)))\n",
        "        except ValueError:\n",
        "            print(\"Ingrese un Numero Entero.\")\n",
        "\n",
        "num_one = prompt_for_integer(\"Primer Numero: \")\n",
        "num_two = prompt_for_integer(\"Segundo Numero: \")\n",
        "\n",
        "print(num_one + num_two)\n"
      ],
      "metadata": {
        "colab": {
          "base_uri": "https://localhost:8080/"
        },
        "id": "TtFczgS4GFl6",
        "outputId": "93ca5f88-f0d6-4d8a-c1bf-b9af7e6fbaec"
      },
      "execution_count": 16,
      "outputs": [
        {
          "output_type": "stream",
          "name": "stdout",
          "text": [
            "Primer Numero: 4\n",
            "Segundo Numero: 3\n",
            "7\n"
          ]
        }
      ]
    },
    {
      "cell_type": "code",
      "source": [
        "#!usr/bin/bash python\n",
        "\n",
        "import os\n",
        "\n",
        "def prompt_for_float(prompt):\n",
        "    while True:\n",
        "        try:\n",
        "            return(float(input(prompt)))\n",
        "        except ValueError:\n",
        "            print(\"Ingrese un numero decimal.\")\n",
        "\n",
        "num_one = prompt_for_float(\"Primer Numero: \")\n",
        "num_two = prompt_for_float(\"Segundo Numero: \")\n",
        "\n",
        "print(num_one + num_two)"
      ],
      "metadata": {
        "colab": {
          "base_uri": "https://localhost:8080/"
        },
        "id": "aI2rcoh6LGRr",
        "outputId": "647cd89b-d0a3-4101-daec-542aacc6d88c"
      },
      "execution_count": 17,
      "outputs": [
        {
          "output_type": "stream",
          "name": "stdout",
          "text": [
            "Primer Numero: 4.6\n",
            "Segundo Numero: 7.4\n",
            "12.0\n"
          ]
        }
      ]
    },
    {
      "cell_type": "markdown",
      "source": [
        "*Estudiante 1*\n",
        "Calcular el area de un Cuadrado"
      ],
      "metadata": {
        "id": "n7vJaWD_OMjD"
      }
    }
  ]
}