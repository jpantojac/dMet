{
  "nbformat": 4,
  "nbformat_minor": 0,
  "metadata": {
    "colab": {
      "provenance": [],
      "collapsed_sections": [],
      "authorship_tag": "ABX9TyMq+kUqZX1YKFWJOhtvtOJY",
      "include_colab_link": true
    },
    "kernelspec": {
      "name": "python3",
      "display_name": "Python 3"
    },
    "language_info": {
      "name": "python"
    }
  },
  "cells": [
    {
      "cell_type": "markdown",
      "metadata": {
        "id": "view-in-github",
        "colab_type": "text"
      },
      "source": [
        "<a href=\"https://colab.research.google.com/github/jpantojac/dMet/blob/main/dMet.ipynb\" target=\"_parent\"><img src=\"https://colab.research.google.com/assets/colab-badge.svg\" alt=\"Open In Colab\"/></a>"
      ]
    },
    {
      "cell_type": "markdown",
      "source": [
        "**Bienvenido al Diplomado de Meteorologia**\n",
        "\n",
        "\n",
        "---\n",
        "\n",
        "\n",
        "\n",
        "\n",
        "En este espacio se realizaran las entregas de los ejercicios propuestos\n"
      ],
      "metadata": {
        "id": "4gUEoXvkDUDT"
      }
    },
    {
      "cell_type": "code",
      "source": [
        "import os\n",
        "\n",
        "print(\"Bienvenido\")"
      ],
      "metadata": {
        "colab": {
          "base_uri": "https://localhost:8080/"
        },
        "id": "l6WVxdzkEK1F",
        "outputId": "1188a477-57b2-459a-d967-56e09286b8ca"
      },
      "execution_count": 1,
      "outputs": [
        {
          "output_type": "stream",
          "name": "stdout",
          "text": [
            "Bienvenido\n"
          ]
        }
      ]
    },
    {
      "cell_type": "markdown",
      "source": [
        "Calcular el area y perimetro de un Cuadrado: \n",
        "Formulas: A=LxL y P=L+L+L+L"
      ],
      "metadata": {
        "id": "ToWUCDmcFt4o"
      }
    },
    {
      "cell_type": "code",
      "source": [
        "%%writefile ejemplo.py\n",
        "#!usr/bin/bash python\n",
        "import os\n",
        "import math\n",
        "def prompt_for_integer(prompt):\n",
        "    while True:\n",
        "        try:\n",
        "            return(int(input(prompt)))\n",
        "        except ValueError:\n",
        "            print(\"Please enter a valid integer.\")\n",
        "\n",
        "num_one = prompt_for_integer(\"First Number: \")\n",
        "num_two = prompt_for_integer(\"Second Number: \")\n",
        "\n",
        "print(num_one + num_two)\n"
      ],
      "metadata": {
        "colab": {
          "base_uri": "https://localhost:8080/"
        },
        "id": "TtFczgS4GFl6",
        "outputId": "b870122c-b68a-4043-c825-c6c92b469850"
      },
      "execution_count": 5,
      "outputs": [
        {
          "output_type": "stream",
          "name": "stdout",
          "text": [
            "Overwriting ejemplo.py\n"
          ]
        }
      ]
    },
    {
      "cell_type": "code",
      "source": [
        "%run ejemplo.py"
      ],
      "metadata": {
        "colab": {
          "base_uri": "https://localhost:8080/"
        },
        "id": "7Scem637K1-K",
        "outputId": "1aeb103b-0550-457d-d430-a59927f28cf6"
      },
      "execution_count": 6,
      "outputs": [
        {
          "output_type": "stream",
          "name": "stdout",
          "text": [
            "First Number: 1\n",
            "Second Number: 2\n",
            "3\n"
          ]
        }
      ]
    },
    {
      "cell_type": "code",
      "source": [
        "%%writefile ejemplo2.py\n",
        "#!usr/bin/bash python\n",
        "import os\n",
        "import math\n",
        "def prompt_for_float(prompt):\n",
        "    while True:\n",
        "        try:\n",
        "            return(float(input(prompt)))\n",
        "        except ValueError:\n",
        "            print(\"Please enter a valid float.\")\n",
        "\n",
        "num_one = prompt_for_float(\"First Number: \")\n",
        "num_two = prompt_for_float(\"Second Number: \")\n",
        "\n",
        "print(num_one + num_two)"
      ],
      "metadata": {
        "colab": {
          "base_uri": "https://localhost:8080/"
        },
        "id": "aI2rcoh6LGRr",
        "outputId": "0af2f6da-d346-49f7-ee23-48bd776b39fc"
      },
      "execution_count": 7,
      "outputs": [
        {
          "output_type": "stream",
          "name": "stdout",
          "text": [
            "Writing ejemplo2.py\n"
          ]
        }
      ]
    },
    {
      "cell_type": "code",
      "source": [
        "%run ejemplo2.py"
      ],
      "metadata": {
        "colab": {
          "base_uri": "https://localhost:8080/"
        },
        "id": "vp9q0Q48LVlJ",
        "outputId": "b20c8df8-dd06-4b6a-a41c-0a7191a1496f"
      },
      "execution_count": 8,
      "outputs": [
        {
          "output_type": "stream",
          "name": "stdout",
          "text": [
            "First Number: 3.5\n",
            "Second Number: 4\n",
            "7.5\n"
          ]
        }
      ]
    }
  ]
}